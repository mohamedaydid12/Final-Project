{
  "nbformat": 4,
  "nbformat_minor": 0,
  "metadata": {
    "colab": {
      "provenance": [],
      "authorship_tag": "ABX9TyOlWL43QkVaUVkrrehMkPJo",
      "include_colab_link": true
    },
    "kernelspec": {
      "name": "python3",
      "display_name": "Python 3"
    },
    "language_info": {
      "name": "python"
    }
  },
  "cells": [
    {
      "cell_type": "markdown",
      "metadata": {
        "id": "view-in-github",
        "colab_type": "text"
      },
      "source": [
        "<a href=\"https://colab.research.google.com/github/mohamedaydid12/Final-Project/blob/main/Final_Project.ipynb\" target=\"_parent\"><img src=\"https://colab.research.google.com/assets/colab-badge.svg\" alt=\"Open In Colab\"/></a>"
      ]
    },
    {
      "cell_type": "code",
      "execution_count": null,
      "metadata": {
        "id": "aoEzunb3j9C1"
      },
      "outputs": [],
      "source": [
        "import dash\n",
        "from dash import dcc, html\n",
        "from dash.dependencies import Input, Output\n",
        "import plotly.express as px\n",
        "\n",
        "# Load the Iris dataset\n",
        "df = px.data.iris()\n",
        "\n",
        "# Create the app\n",
        "app = dash.Dash(__name__)\n",
        "\n",
        "# Layout of the dashboard\n",
        "app.layout = html.Div([\n",
        "    html.H1(\"Iris Dataset Dashboard\"),\n",
        "    dcc.Dropdown(\n",
        "        id='species-dropdown',\n",
        "        options=[{'label': species, 'value': species} for species in df['species'].unique()],\n",
        "        value='setosa'\n",
        "    ),\n",
        "    dcc.Graph(id='bar-chart'),\n",
        "    dcc.Graph(id='pie-chart'),\n",
        "    dcc.Graph(id='scatter-plot'),\n",
        "])\n",
        "\n",
        "# Callback to update the charts based on the dropdown selection\n",
        "@app.callback(\n",
        "    [Output('bar-chart', 'figure'),\n",
        "     Output('pie-chart', 'figure'),\n",
        "     Output('scatter-plot', 'figure')],\n",
        "    [Input('species-dropdown', 'value')]\n",
        ")\n",
        "def update_charts(species):\n",
        "    filtered_df = df[df['species'] == species]\n",
        "\n",
        "    bar_fig = px.bar(filtered_df.groupby('species')['sepal_length'].mean().reset_index(), x='species', y='sepal_length')\n",
        "    pie_fig = px.pie(filtered_df, names='species')\n",
        "    scatter_fig = px.scatter(filtered_df, x='sepal_length', y='petal_length', color='species')\n",
        "\n",
        "    return bar_fig, pie_fig, scatter_fig\n",
        "\n",
        "# Run the app\n",
        "if __name__ == '__main__':\n",
        "    app.run_server(debug=True)\n"
      ]
    }
  ]
}